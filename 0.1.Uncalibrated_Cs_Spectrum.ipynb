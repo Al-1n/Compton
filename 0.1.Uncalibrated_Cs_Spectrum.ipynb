{
 "cells": [
  {
   "cell_type": "markdown",
   "id": "8a2c651d-dafd-4d34-8333-ea01366cf09f",
   "metadata": {},
   "source": [
    "# The Uncalibrated Spectrum of Cs137\n",
    "\n",
    "** **\n",
    "\n",
    "* This project uses the lmfit package. Lmfit provides curve fiting using non-linear least squares minimization and was developed by Matt Newville: https://github.com/newville."
   ]
  },
  {
   "cell_type": "markdown",
   "id": "a24ad9e8-a1c3-4c57-ad13-f288557a5b39",
   "metadata": {},
   "source": [
    "## Install and import libraries"
   ]
  },
  {
   "cell_type": "code",
   "execution_count": 9,
   "id": "44958a06-8e41-47a5-84e4-eccd6b6158d2",
   "metadata": {
    "tags": []
   },
   "outputs": [],
   "source": [
    "#uncomment the following lines to install lmfit\n",
    "\n",
    "# from subprocess import call\n",
    "# call(['pip', 'install', 'lmfit'])\n",
    "# call(['pip', 'install', 'matplotlib'])"
   ]
  },
  {
   "cell_type": "code",
   "execution_count": 10,
   "id": "d67ea34c-d2aa-4fec-90ef-e022cf41e6ad",
   "metadata": {
    "tags": []
   },
   "outputs": [],
   "source": [
    "#import libraries\n",
    "from numpy import sqrt, pi, exp, linspace, loadtxt\n",
    "from lmfit.models import GaussianModel, MoffatModel, StudentsTModel\n",
    "import matplotlib.pyplot as plt\n",
    "import pylab as pl\n",
    "import numpy as np\n",
    "import matplotlib.lines as mlines\n",
    "import pandas as pd\n",
    "\n",
    "\n",
    "%matplotlib inline "
   ]
  },
  {
   "cell_type": "markdown",
   "id": "98bcbd50-6c0b-4573-aeba-c74d5ecf0c0f",
   "metadata": {},
   "source": [
    "## Data Wrangling"
   ]
  },
  {
   "cell_type": "code",
   "execution_count": 11,
   "id": "d811099b-2529-4e30-a8f9-baed191d2d23",
   "metadata": {
    "tags": []
   },
   "outputs": [],
   "source": [
    "#define a function to read the data files\n",
    "#the original data was previously split into subsets using spreadsheet applications\n",
    "\n",
    "def read_csv_data(n):\n",
    "    '''\n",
    "    The function reads different ranges of data points from separate csv files and returns\n",
    "    x and y pairs for each range.\n",
    "    '''\n",
    "    data_frames = []\n",
    "    x_values = []\n",
    "    y_values = []\n",
    "    \n",
    "    for i in range(1, n + 1):\n",
    "        file_path = f\"./Data/csu{i}.csv\"\n",
    "        df = pd.read_csv(file_path, sep=\" \")\n",
    "        \n",
    "        # Assuming the column indices for x and y are 0 and 1\n",
    "        x = df.iloc[:, 0:1]\n",
    "        y = df.iloc[:, 1:2]\n",
    "        \n",
    "        data_frames.append(df)\n",
    "        x_values.append(x)\n",
    "        y_values.append(y)\n",
    "    \n",
    "    return data_frames, x_values, y_values"
   ]
  },
  {
   "cell_type": "code",
   "execution_count": 12,
   "id": "6607fe1e-555e-4ccd-80fa-3093473c9ae8",
   "metadata": {
    "tags": []
   },
   "outputs": [],
   "source": [
    "#load the data\n",
    "\n",
    "n = 11  # there are 11 csv files in the data folder\n",
    "dfs, x_vals, y_vals = read_csv_data(n)"
   ]
  },
  {
   "cell_type": "code",
   "execution_count": 13,
   "id": "fe450d11-33e1-442d-82bc-ea3d6fd47562",
   "metadata": {
    "tags": []
   },
   "outputs": [
    {
     "data": {
      "text/html": [
       "<div>\n",
       "<style scoped>\n",
       "    .dataframe tbody tr th:only-of-type {\n",
       "        vertical-align: middle;\n",
       "    }\n",
       "\n",
       "    .dataframe tbody tr th {\n",
       "        vertical-align: top;\n",
       "    }\n",
       "\n",
       "    .dataframe thead th {\n",
       "        text-align: right;\n",
       "    }\n",
       "</style>\n",
       "<table border=\"1\" class=\"dataframe\">\n",
       "  <thead>\n",
       "    <tr style=\"text-align: right;\">\n",
       "      <th></th>\n",
       "      <th>0</th>\n",
       "      <th>0.1</th>\n",
       "    </tr>\n",
       "  </thead>\n",
       "  <tbody>\n",
       "    <tr>\n",
       "      <th>0</th>\n",
       "      <td>1.46556</td>\n",
       "      <td>0</td>\n",
       "    </tr>\n",
       "    <tr>\n",
       "      <th>1</th>\n",
       "      <td>2.93112</td>\n",
       "      <td>0</td>\n",
       "    </tr>\n",
       "    <tr>\n",
       "      <th>2</th>\n",
       "      <td>4.39668</td>\n",
       "      <td>0</td>\n",
       "    </tr>\n",
       "    <tr>\n",
       "      <th>3</th>\n",
       "      <td>5.86224</td>\n",
       "      <td>0</td>\n",
       "    </tr>\n",
       "    <tr>\n",
       "      <th>4</th>\n",
       "      <td>7.32780</td>\n",
       "      <td>0</td>\n",
       "    </tr>\n",
       "  </tbody>\n",
       "</table>\n",
       "</div>"
      ],
      "text/plain": [
       "         0  0.1\n",
       "0  1.46556    0\n",
       "1  2.93112    0\n",
       "2  4.39668    0\n",
       "3  5.86224    0\n",
       "4  7.32780    0"
      ]
     },
     "execution_count": 13,
     "metadata": {},
     "output_type": "execute_result"
    }
   ],
   "source": [
    "#verify the data\n",
    "dfs[0].head() #preview the first dataframe from the list"
   ]
  },
  {
   "cell_type": "markdown",
   "id": "c7a1009e-4f6d-4049-962e-a08047ca4d06",
   "metadata": {
    "tags": []
   },
   "source": [
    "## Define the composite model, fit and print the results"
   ]
  },
  {
   "cell_type": "code",
   "execution_count": 14,
   "id": "7a6e0571-857d-408b-8aab-3de221ca691d",
   "metadata": {
    "tags": []
   },
   "outputs": [],
   "source": [
    "#use builtin NameModel, specify prefix for each:\n",
    "\n",
    "mod2 = MoffatModel(prefix='g2_') \n",
    "\n",
    "mod4 = GaussianModel(prefix='g4_') \n",
    "       \n",
    "mod6 = GaussianModel(prefix='g6_') \n",
    "       \n",
    "mod8 = GaussianModel(prefix='g8_') \n",
    "      \n",
    "mod10 = GaussianModel(prefix='g10_')"
   ]
  },
  {
   "cell_type": "code",
   "execution_count": 15,
   "id": "66aece87-da38-4360-be5a-b586e85e2d2d",
   "metadata": {
    "tags": []
   },
   "outputs": [],
   "source": [
    "#initialize the parameters to be optimized\n",
    "pars2  = mod2.make_params(g2_amplitude=1678, g2_center=44.3862, g2_sigma=4.68938)\n",
    "                         \n",
    "pars4  = mod4.make_params(g4_amplitude=583.8, g4_center=100.1304, g4_sigma=8.46)\n",
    "                       \n",
    "pars6  = mod6.make_params(g6_amplitude=478.657, g6_center=240.4850, g6_sigma=21.898)\n",
    "                        \n",
    "pars8  = mod8.make_params(g8_amplitude=364.214, g8_center=436.2977, g8_sigma=21.94)\n",
    "                        \n",
    "pars10 = mod10.make_params(g10_amplitude=1836.15, g10_center=641.54, g10_sigma=24.5728)                       \n",
    "                        "
   ]
  },
  {
   "cell_type": "code",
   "execution_count": 19,
   "id": "9876839d-8cdc-49d4-9641-43b1e646710c",
   "metadata": {
    "tags": []
   },
   "outputs": [
    {
     "name": "stdout",
     "output_type": "stream",
     "text": [
      "------------------------------------------------------\n",
      "[[Model]]\n",
      "    Model(moffat, prefix='g2_')\n",
      "[[Fit Statistics]]\n",
      "    # fitting method   = leastsq\n",
      "    # function evals   = 36\n",
      "    # data points      = 20\n",
      "    # variables        = 4\n",
      "    chi-square         = 16.1885755\n",
      "    reduced chi-square = 1.01178597\n",
      "    Akaike info crit   = 3.77147004\n",
      "    Bayesian info crit = 7.75439913\n",
      "    R-squared          = 0.99999687\n",
      "[[Variables]]\n",
      "    g2_amplitude:  1704.05966 +/- 39.6638942 (2.33%) (init = 1678)\n",
      "    g2_center:     43.7999655 +/- 0.11515168 (0.26%) (init = 44.3862)\n",
      "    g2_sigma:      7.24523198 +/- 1.15609445 (15.96%) (init = 4.68938)\n",
      "    g2_beta:       1.50129232 +/- 0.31589092 (21.04%) (init = 1)\n",
      "    g2_fwhm:       11.0998255 +/- 0.42484909 (3.83%) == '2*g2_sigma*sqrt(2**(1.0/max(1e-3, g2_beta))-1)'\n",
      "    g2_height:     1704.05966 +/- 39.6638942 (2.33%) == 'g2_amplitude'\n",
      "[[Correlations]] (unreported correlations are < 0.100)\n",
      "    C(g2_sigma, g2_beta)      = +0.9840\n",
      "    C(g2_amplitude, g2_sigma) = -0.5652\n",
      "    C(g2_amplitude, g2_beta)  = -0.4677\n",
      "------------------------------------------------------\n",
      "[[Model]]\n",
      "    Model(gaussian, prefix='g4_')\n",
      "[[Fit Statistics]]\n",
      "    # fitting method   = leastsq\n",
      "    # function evals   = 42\n",
      "    # data points      = 32\n",
      "    # variables        = 3\n",
      "    chi-square         = 29.5128204\n",
      "    reduced chi-square = 1.01768346\n",
      "    Akaike info crit   = 3.41084339\n",
      "    Bayesian info crit = 7.80805110\n",
      "    R-squared          = 0.99988892\n",
      "[[Variables]]\n",
      "    g4_amplitude:  24884.9834 +/- 978.833353 (3.93%) (init = 583.8)\n",
      "    g4_center:     102.071953 +/- 0.62348440 (0.61%) (init = 100.1304)\n",
      "    g4_sigma:      19.0162029 +/- 0.97861811 (5.15%) (init = 8.46)\n",
      "    g4_fwhm:       44.7797344 +/- 2.30446948 (5.15%) == '2.3548200*g4_sigma'\n",
      "    g4_height:     522.063878 +/- 13.1619132 (2.52%) == '0.3989423*g4_amplitude/max(1e-15, g4_sigma)'\n",
      "[[Correlations]] (unreported correlations are < 0.100)\n",
      "    C(g4_amplitude, g4_sigma) = +0.8793\n",
      "------------------------------------------------------\n",
      "[[Model]]\n",
      "    Model(gaussian, prefix='g6_')\n",
      "[[Fit Statistics]]\n",
      "    # fitting method   = leastsq\n",
      "    # function evals   = 39\n",
      "    # data points      = 67\n",
      "    # variables        = 3\n",
      "    chi-square         = 64.8993151\n",
      "    reduced chi-square = 1.01405180\n",
      "    Akaike info crit   = 3.86567817\n",
      "    Bayesian info crit = 10.4797560\n",
      "    R-squared          = 0.99935067\n",
      "[[Variables]]\n",
      "    g6_amplitude:  69154.8831 +/- 2667.28045 (3.86%) (init = 478.657)\n",
      "    g6_center:     240.434069 +/- 1.19238152 (0.50%) (init = 240.485)\n",
      "    g6_sigma:      64.0402502 +/- 2.90062984 (4.53%) (init = 21.898)\n",
      "    g6_fwhm:       150.803260 +/- 6.83046116 (4.53%) == '2.3548200*g6_sigma'\n",
      "    g6_height:     430.804197 +/- 4.58023442 (1.06%) == '0.3989423*g6_amplitude/max(1e-15, g6_sigma)'\n",
      "[[Correlations]] (unreported correlations are < 0.100)\n",
      "    C(g6_amplitude, g6_sigma)  = +0.9806\n",
      "    C(g6_amplitude, g6_center) = +0.2541\n",
      "    C(g6_center, g6_sigma)     = +0.2165\n",
      "------------------------------------------------------\n",
      "[[Model]]\n",
      "    Model(gaussian, prefix='g8_')\n",
      "[[Fit Statistics]]\n",
      "    # fitting method   = leastsq\n",
      "    # function evals   = 53\n",
      "    # data points      = 57\n",
      "    # variables        = 3\n",
      "    chi-square         = 57.3287311\n",
      "    reduced chi-square = 1.06164317\n",
      "    Akaike info crit   = 6.32778676\n",
      "    Bayesian info crit = 12.4569406\n",
      "    R-squared          = 0.99926567\n",
      "[[Variables]]\n",
      "    g8_amplitude:  49600.4459 +/- 2410.37813 (4.86%) (init = 364.214)\n",
      "    g8_center:     422.838655 +/- 1.43880785 (0.34%) (init = 436.2977)\n",
      "    g8_sigma:      57.8111288 +/- 3.19999692 (5.54%) (init = 21.94)\n",
      "    g8_fwhm:       136.134800 +/- 7.53541679 (5.54%) == '2.3548200*g8_sigma'\n",
      "    g8_height:     342.282129 +/- 3.78709137 (1.11%) == '0.3989423*g8_amplitude/max(1e-15, g8_sigma)'\n",
      "[[Correlations]] (unreported correlations are < 0.100)\n",
      "    C(g8_amplitude, g8_sigma)  = +0.9857\n",
      "    C(g8_amplitude, g8_center) = -0.5607\n",
      "    C(g8_center, g8_sigma)     = -0.5414\n",
      "------------------------------------------------------\n",
      "[[Model]]\n",
      "    Model(gaussian, prefix='g10_')\n",
      "[[Fit Statistics]]\n",
      "    # fitting method   = leastsq\n",
      "    # function evals   = 63\n",
      "    # data points      = 120\n",
      "    # variables        = 3\n",
      "    chi-square         = 117.732127\n",
      "    reduced chi-square = 1.00625750\n",
      "    Akaike info crit   = 3.71042332\n",
      "    Bayesian info crit = 12.0728986\n",
      "    R-squared          = 0.99999728\n",
      "[[Variables]]\n",
      "    g10_amplitude:  108140.187 +/- 1071.06251 (0.99%) (init = 1836.15)\n",
      "    g10_center:     638.540552 +/- 0.28312335 (0.04%) (init = 641.54)\n",
      "    g10_sigma:      24.7796145 +/- 0.28384485 (1.15%) (init = 24.5728)\n",
      "    g10_fwhm:       58.3515310 +/- 0.66840353 (1.15%) == '2.3548200*g10_sigma'\n",
      "    g10_height:     1741.01561 +/- 17.2086352 (0.99%) == '0.3989423*g10_amplitude/max(1e-15, g10_sigma)'\n",
      "[[Correlations]] (unreported correlations are < 0.100)\n",
      "    C(g10_amplitude, g10_sigma) = +0.5800\n",
      "------------------------------------------------------\n"
     ]
    }
   ],
   "source": [
    "#fit with weights=1./yerr\n",
    "result2 = mod2.fit(y_vals[1], pars2, x=x_vals[1], weights = 1 / (x_vals[1] * 1.42))\n",
    "result4 = mod4.fit(y_vals[3], pars4, x=x_vals[3], weights = 1 / (x_vals[3] * 0.435))\n",
    "result6 = mod6.fit(y_vals[5], pars6, x=x_vals[5], weights = 1 / (x_vals[5] * 0.1))\n",
    "result8 = mod8.fit(y_vals[7], pars8, x=x_vals[7], weights = 1 / (x_vals[7] * 0.043))\n",
    "result10 = mod10.fit(y_vals[9], pars10, x=x_vals[9], weights = 1 / (x_vals[9] * 0.12))\n",
    "\n",
    "#print the Fit Statistics and parameters\n",
    "print('------------------------------------------------------')\n",
    "print(result2.fit_report())\n",
    "print('------------------------------------------------------')\n",
    "print(result4.fit_report())\n",
    "print('------------------------------------------------------')\n",
    "print(result6.fit_report())\n",
    "print('------------------------------------------------------')\n",
    "print(result8.fit_report())\n",
    "print('------------------------------------------------------')\n",
    "print(result10.fit_report())\n",
    "print('------------------------------------------------------')"
   ]
  },
  {
   "cell_type": "code",
   "execution_count": 141,
   "id": "024854b9-7db1-4706-bcde-68790fd6fc2a",
   "metadata": {
    "tags": []
   },
   "outputs": [
    {
     "data": {
      "image/png": "[encoded data removed]",
      "text/plain": [
       "<Figure size 900x600 with 1 Axes>"
      ]
     },
     "metadata": {},
     "output_type": "display_data"
    }
   ],
   "source": [
    "#%matplotlib widget\n",
    "\n",
    "plt.figure(figsize=(9,6))\n",
    "\n",
    "#plot data and models\n",
    "plt.plot(x_vals[0], y_vals[0], color = '#7c8bfd', marker = \".\")\n",
    "\n",
    "plt.plot(x_vals[1], y_vals[1], color = '#7c8bfd', marker = \".\")\n",
    "plt.plot(x_vals[1], result2.best_fit, 'r-', linewidth=2.5)\n",
    "\n",
    "plt.plot(x_vals[2], y_vals[2], color = '#7c8bfd', marker = \".\")\n",
    "\n",
    "plt.plot(x_vals[3], y_vals[3], color = '#7c8bfd', marker = \".\")\n",
    "plt.plot(x_vals[3], result4.best_fit, 'r-', linewidth=2.5)\n",
    "\n",
    "plt.plot(x_vals[4], y_vals[4], color = '#7c8bfd', marker = \".\")\n",
    "\n",
    "plt.plot(x_vals[5], y_vals[5], color = '#7c8bfd', marker = \".\")\n",
    "plt.plot(x_vals[5], result6.best_fit, 'r-', linewidth=2.5)\n",
    "\n",
    "plt.plot(x_vals[6], y_vals[6], color = '#7c8bfd', marker = \".\")\n",
    "\n",
    "plt.plot(x_vals[7], y_vals[7], color = '#7c8bfd', marker = \".\")\n",
    "plt.plot(x_vals[7], result8.best_fit, 'r-', linewidth=2.5)\n",
    "\n",
    "plt.plot(x_vals[8], y_vals[8], color = '#7c8bfd', marker = \".\")\n",
    "\n",
    "plt.plot(x_vals[9], y_vals[9], color = '#7c8bfd', marker = \".\")\n",
    "plt.plot(x_vals[9], result10.best_fit, 'r-', linewidth=2.5)\n",
    "\n",
    "plt.plot(x_vals[10], y_vals[10], color = '#7c8bfd', marker = \".\")\n",
    "\n",
    "plt.ylabel('Counts')\n",
    "plt.xlabel('Channel')\n",
    "\n",
    "\n",
    "plt.ylim(0, 2000) \n",
    "plt.xlim(0, 1000)\n",
    "#plt.yscale('log')\n",
    "\n",
    "#make annotations\n",
    "plt.annotate('Ba X-ray', xy=(61, 1048), xytext=(124, 1861),\n",
    "            arrowprops=dict(arrowstyle=\"->\",\n",
    "                            connectionstyle=\"arc\"),\n",
    "            )\n",
    "plt.annotate('Lead X-ray', xy=(114, 480), xytext=(130, 900),\n",
    "            arrowprops=dict(arrowstyle=\"->\",\n",
    "                            connectionstyle=\"arc\"),\n",
    "            )\n",
    "plt.annotate('Backscatter', xy=(254, 439), xytext=(260, 590),\n",
    "            arrowprops=dict(arrowstyle=\"->\",\n",
    "                            connectionstyle=\"arc\"),\n",
    "            )\n",
    "plt.annotate('Compton Edge', xy=(440, 282), xytext=(120, 160), horizontalalignment=\"left\",\n",
    "            arrowprops=dict(arrowstyle=\"->\",\n",
    "                            connectionstyle=\"arc\"),\n",
    "            )\n",
    "plt.annotate('gamma@661.657keV', xy=(666, 1700), xytext=(700, 1750),\n",
    "            arrowprops=dict(arrowstyle=\"->\",\n",
    "                            connectionstyle=\"arc\"),\n",
    "            )\n",
    "\n",
    "# Create legend entries for the blue and red lines (data and model) and display the legend\n",
    "blue_line = mlines.Line2D([], [], color='#7c8bfd', label='Data')\n",
    "\n",
    "red_line = mlines.Line2D([], [], color='red', label='Moffat Fit', linewidth=2.5)\n",
    "\n",
    "plt.legend([blue_line, red_line], ['Data', 'Moffat Fit'], loc='lower center', bbox_to_anchor= (0.5, 1.005), ncol=2,\n",
    "            borderaxespad=0, frameon=False)\n",
    "\n",
    "plt.title('The (uncalibrated) decay spectrum of Cs-137', y = 1.07)\n",
    "\n",
    "#show the plot\n",
    "plt.show()\n"
   ]
  },
  {
   "cell_type": "markdown",
   "id": "2d8d88b4-fb3a-4cac-b0a8-c4c1204e3b66",
   "metadata": {},
   "source": [
    "\n",
    "\n",
    "\n",
    "---\n",
    "\n",
    "## References\n",
    "\n",
    "### **The images below are included as a reference for the decay scheme and gamma ray energies** "
   ]
  },
  {
   "cell_type": "markdown",
   "id": "00cda79c-9451-47f0-9385-019fb3bb113e",
   "metadata": {},
   "source": [
    "![](./img/Cs_spectrum.png)\n",
    "\n",
    "https://gammaray.inl.gov/SiteAssets/catalogs/nai/pdf/Cs137.pdf\n",
    "\n",
    "\n",
    "![](./img/Cs_gamma.png)\n",
    "\n",
    "https://gammaray.inl.gov/SiteAssets/catalogs/nai/pdf/Cs137.pdf\n",
    "\n",
    "\n",
    "![](./img/Cs_energy_table.png)\n",
    "\n",
    "\n",
    "https://nucleardata.nuclear.lu.se/toi/nuclide.asp?iZA=550137"
   ]
  },
  {
   "cell_type": "markdown",
   "id": "9ed95a0c-ae4c-42fe-90cc-bd697e501f6c",
   "metadata": {},
   "source": [
    "## Author\n",
    "** **\n",
    "\n",
    "### <a href=\"https://www.linkedin.com/in/alin-airinei/\">Alin Airinei</a>"
   ]
  }
 ],
 "metadata": {
  "kernelspec": {
   "display_name": "Python 3 (ipykernel)",
   "language": "python",
   "name": "python3"
  },
  "language_info": {
   "codemirror_mode": {
    "name": "ipython",
    "version": 3
   },
   "file_extension": ".py",
   "mimetype": "text/x-python",
   "name": "python",
   "nbconvert_exporter": "python",
   "pygments_lexer": "ipython3",
   "version": "3.11.4"
  },
  "widgets": {
   "application/vnd.jupyter.widget-state+json": {
    "state": {},
    "version_major": 2,
    "version_minor": 0
   }
  }
 },
 "nbformat": 4,
 "nbformat_minor": 5
}
