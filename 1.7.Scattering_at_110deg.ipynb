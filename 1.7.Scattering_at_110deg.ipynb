{
 "cells": [
  {
   "cell_type": "markdown",
   "id": "022cd265-4d10-43df-86a2-fd2b5b874ce4",
   "metadata": {},
   "source": [
    "** ** \n",
    "\n",
    "<figure>\n",
    "<div style=\"text-align:center\"><img src=\"./img/compton_setup.png\" /></div>\n",
    "<p><center>The experimental setup.</center></p>\n",
    "</figure>\n",
    "\n",
    "# Compton gamma-ray scattering at a 110-degree angle\n",
    "\n",
    "** **\n",
    "\n",
    "* This project uses the lmfit package. Lmfit provides curve fiting using non-linear least squares minimization and was developed by Matt Newville: https://github.com/newville."
   ]
  },
  {
   "cell_type": "markdown",
   "id": "96308b6c-eab9-4293-a09a-6e3e2b935c84",
   "metadata": {},
   "source": [
    "## Install and import libraries"
   ]
  },
  {
   "cell_type": "code",
   "execution_count": 1,
   "id": "8aaa0ffa-9c99-492e-876d-76e0ad67cf80",
   "metadata": {
    "tags": []
   },
   "outputs": [],
   "source": [
    "#uncomment the following lines to install lmfit\n",
    "\n",
    "#from subprocess import call\n",
    "# call(['pip', 'install', 'lmfit'])\n",
    "# call(['pip', 'install', 'matplotlib'])\n",
    "#call(['pip', 'install', 'ipympl'])\n",
    "\n",
    "#install pymc3\n",
    "#%pip install pymc3"
   ]
  },
  {
   "cell_type": "code",
   "execution_count": 2,
   "id": "8e53f6d8-c3aa-44c4-a10c-64f76c6e361e",
   "metadata": {
    "tags": []
   },
   "outputs": [],
   "source": [
    "#import libraries\n",
    "from numpy import sqrt, pi, exp, linspace, loadtxt\n",
    "from lmfit.models import MoffatModel, PolynomialModel\n",
    "import matplotlib.pyplot as plt\n",
    "import pylab as pl\n",
    "import numpy as np\n",
    "import matplotlib.lines as mlines\n",
    "import pandas as pd\n",
    "from scipy.optimize import curve_fit\n",
    "from scipy.signal import find_peaks\n",
    "from sklearn.preprocessing import PolynomialFeatures\n",
    "from sklearn.linear_model import LinearRegression\n",
    "from sklearn.pipeline import make_pipeline"
   ]
  },
  {
   "cell_type": "markdown",
   "id": "dd885134-f809-4e36-8fc8-f1502e7848bf",
   "metadata": {},
   "source": [
    "## Data Wrangling"
   ]
  },
  {
   "cell_type": "code",
   "execution_count": 3,
   "id": "907e6f02-3654-49fb-b3a4-716fe6bd6dd1",
   "metadata": {
    "tags": []
   },
   "outputs": [],
   "source": [
    "#Load data\n",
    "\n",
    "#Load channel counts of scattering from large aluminum target at 18deg\n",
    "df_110 = pd.read_csv(\"./Data/180912-1447_Cs-137_LgHole_LgAl_110-degrees.csv\")"
   ]
  },
  {
   "cell_type": "code",
   "execution_count": 4,
   "id": "a6c9720c-4b60-49e7-9638-b6e399e68f9f",
   "metadata": {
    "tags": []
   },
   "outputs": [
    {
     "data": {
      "text/html": [
       "<div>\n",
       "<style scoped>\n",
       "    .dataframe tbody tr th:only-of-type {\n",
       "        vertical-align: middle;\n",
       "    }\n",
       "\n",
       "    .dataframe tbody tr th {\n",
       "        vertical-align: top;\n",
       "    }\n",
       "\n",
       "    .dataframe thead th {\n",
       "        text-align: right;\n",
       "    }\n",
       "</style>\n",
       "<table border=\"1\" class=\"dataframe\">\n",
       "  <thead>\n",
       "    <tr style=\"text-align: right;\">\n",
       "      <th></th>\n",
       "      <th>0</th>\n",
       "    </tr>\n",
       "  </thead>\n",
       "  <tbody>\n",
       "    <tr>\n",
       "      <th>0</th>\n",
       "      <td>0</td>\n",
       "    </tr>\n",
       "    <tr>\n",
       "      <th>1</th>\n",
       "      <td>0</td>\n",
       "    </tr>\n",
       "    <tr>\n",
       "      <th>2</th>\n",
       "      <td>0</td>\n",
       "    </tr>\n",
       "    <tr>\n",
       "      <th>3</th>\n",
       "      <td>0</td>\n",
       "    </tr>\n",
       "    <tr>\n",
       "      <th>4</th>\n",
       "      <td>0</td>\n",
       "    </tr>\n",
       "  </tbody>\n",
       "</table>\n",
       "</div>"
      ],
      "text/plain": [
       "   0\n",
       "0  0\n",
       "1  0\n",
       "2  0\n",
       "3  0\n",
       "4  0"
      ]
     },
     "execution_count": 4,
     "metadata": {},
     "output_type": "execute_result"
    }
   ],
   "source": [
    "#preview the data\n",
    "df_110.head()"
   ]
  },
  {
   "cell_type": "code",
   "execution_count": 5,
   "id": "c0717cd1-b5a5-4ba8-94e0-dca4158d9c14",
   "metadata": {
    "tags": []
   },
   "outputs": [
    {
     "data": {
      "text/html": [
       "<div>\n",
       "<style scoped>\n",
       "    .dataframe tbody tr th:only-of-type {\n",
       "        vertical-align: middle;\n",
       "    }\n",
       "\n",
       "    .dataframe tbody tr th {\n",
       "        vertical-align: top;\n",
       "    }\n",
       "\n",
       "    .dataframe thead th {\n",
       "        text-align: right;\n",
       "    }\n",
       "</style>\n",
       "<table border=\"1\" class=\"dataframe\">\n",
       "  <thead>\n",
       "    <tr style=\"text-align: right;\">\n",
       "      <th></th>\n",
       "      <th>Channel</th>\n",
       "      <th>0</th>\n",
       "    </tr>\n",
       "  </thead>\n",
       "  <tbody>\n",
       "    <tr>\n",
       "      <th>1</th>\n",
       "      <td>1</td>\n",
       "      <td>0</td>\n",
       "    </tr>\n",
       "    <tr>\n",
       "      <th>2</th>\n",
       "      <td>2</td>\n",
       "      <td>0</td>\n",
       "    </tr>\n",
       "    <tr>\n",
       "      <th>3</th>\n",
       "      <td>3</td>\n",
       "      <td>0</td>\n",
       "    </tr>\n",
       "    <tr>\n",
       "      <th>4</th>\n",
       "      <td>4</td>\n",
       "      <td>0</td>\n",
       "    </tr>\n",
       "    <tr>\n",
       "      <th>5</th>\n",
       "      <td>5</td>\n",
       "      <td>0</td>\n",
       "    </tr>\n",
       "  </tbody>\n",
       "</table>\n",
       "</div>"
      ],
      "text/plain": [
       "   Channel  0\n",
       "1        1  0\n",
       "2        2  0\n",
       "3        3  0\n",
       "4        4  0\n",
       "5        5  0"
      ]
     },
     "execution_count": 5,
     "metadata": {},
     "output_type": "execute_result"
    }
   ],
   "source": [
    "#force start the index at 1 and add it as a column to match the channel numbers\n",
    "# Set the index to start at 1\n",
    "df_110.index = range(1, len(df_110) + 1)\n",
    "\n",
    "# Add the index as the first column\n",
    "df_110.insert(0, 'Channel', df_110.index)\n",
    "\n",
    "#preview the data\n",
    "df_110.head()"
   ]
  },
  {
   "cell_type": "code",
   "execution_count": 6,
   "id": "77a90534-79ad-495f-839b-7da56dc35c64",
   "metadata": {
    "tags": []
   },
   "outputs": [
    {
     "data": {
      "image/png": "[encoded data removed]",
      "text/plain": [
       "<Figure size 900x600 with 1 Axes>"
      ]
     },
     "metadata": {},
     "output_type": "display_data"
    }
   ],
   "source": [
    "#preview the data \n",
    "\n",
    "#Uncomment the next line to make the graph interactive\n",
    "#%matplotlib widget\n",
    "\n",
    "#rename the second column\n",
    "df_110.rename(columns={\"0\": \"Counts\"}, inplace=True)\n",
    "\n",
    "#remove unnecessary data\n",
    "df_110 = df_110[df_110['Channel'] <= 700]\n",
    "\n",
    "plt.figure(figsize=(9,6))\n",
    "\n",
    "#preview the spectrum\n",
    "plt.plot('Channel', 'Counts', data = df_110, marker = \".\")\n",
    "\n",
    "plt.show()"
   ]
  },
  {
   "cell_type": "code",
   "execution_count": 7,
   "id": "55c5918c-620c-4d5a-9869-c27dae6a9805",
   "metadata": {},
   "outputs": [
    {
     "data": {
      "text/html": [
       "<div>\n",
       "<style scoped>\n",
       "    .dataframe tbody tr th:only-of-type {\n",
       "        vertical-align: middle;\n",
       "    }\n",
       "\n",
       "    .dataframe tbody tr th {\n",
       "        vertical-align: top;\n",
       "    }\n",
       "\n",
       "    .dataframe thead th {\n",
       "        text-align: right;\n",
       "    }\n",
       "</style>\n",
       "<table border=\"1\" class=\"dataframe\">\n",
       "  <thead>\n",
       "    <tr style=\"text-align: right;\">\n",
       "      <th></th>\n",
       "      <th>Channel</th>\n",
       "      <th>Counts</th>\n",
       "      <th>Channel Range</th>\n",
       "    </tr>\n",
       "  </thead>\n",
       "  <tbody>\n",
       "    <tr>\n",
       "      <th>166</th>\n",
       "      <td>166</td>\n",
       "      <td>93</td>\n",
       "      <td>Range 165-200</td>\n",
       "    </tr>\n",
       "    <tr>\n",
       "      <th>167</th>\n",
       "      <td>167</td>\n",
       "      <td>92</td>\n",
       "      <td>Range 165-200</td>\n",
       "    </tr>\n",
       "    <tr>\n",
       "      <th>168</th>\n",
       "      <td>168</td>\n",
       "      <td>135</td>\n",
       "      <td>Range 165-200</td>\n",
       "    </tr>\n",
       "    <tr>\n",
       "      <th>169</th>\n",
       "      <td>169</td>\n",
       "      <td>111</td>\n",
       "      <td>Range 165-200</td>\n",
       "    </tr>\n",
       "    <tr>\n",
       "      <th>170</th>\n",
       "      <td>170</td>\n",
       "      <td>135</td>\n",
       "      <td>Range 165-200</td>\n",
       "    </tr>\n",
       "  </tbody>\n",
       "</table>\n",
       "</div>"
      ],
      "text/plain": [
       "     Channel  Counts  Channel Range\n",
       "166      166      93  Range 165-200\n",
       "167      167      92  Range 165-200\n",
       "168      168     135  Range 165-200\n",
       "169      169     111  Range 165-200\n",
       "170      170     135  Range 165-200"
      ]
     },
     "execution_count": 7,
     "metadata": {},
     "output_type": "execute_result"
    }
   ],
   "source": [
    "# Define the channel ranges\n",
    "channel_ranges = [0, 165, 200, 700]\n",
    "\n",
    "# Create labels for the ranges\n",
    "labels = [f\"Range {i}-{j}\" for i, j in zip(channel_ranges[:-1], channel_ranges[1:])]\n",
    "\n",
    "# Use pd.cut() to categorize the data into the specified ranges\n",
    "df_110['Channel Range'] = pd.cut(df_110['Channel'], bins=channel_ranges, labels=labels, include_lowest=True)\n",
    "\n",
    "# Create a dictionary of DataFrames, one for each channel range\n",
    "channel_range_dfs = {label: group for label, group in df_110.groupby('Channel Range')}\n",
    "\n",
    "# Access individual DataFrames using keys (e.g., channel_range_dfs['Range 0-40'])\n",
    "channel_range_dfs['Range 165-200'].head()"
   ]
  },
  {
   "cell_type": "markdown",
   "id": "6e48e6fd-4eb4-4bae-8cf5-bbd8477f95ea",
   "metadata": {},
   "source": [
    "## Define the model, fit, and print the results"
   ]
  },
  {
   "cell_type": "code",
   "execution_count": 8,
   "id": "406ce5e6-7458-4a28-b3cc-72d5cd79a401",
   "metadata": {
    "tags": []
   },
   "outputs": [],
   "source": [
    "#use builtin model:\n",
    "mod2 = MoffatModel(prefix='g2_') "
   ]
  },
  {
   "cell_type": "code",
   "execution_count": 9,
   "id": "149f5e88-b6b1-48ce-8677-b0b3436fc431",
   "metadata": {
    "tags": []
   },
   "outputs": [],
   "source": [
    "#initialize the parameters to be optimized\n",
    "pars2  = mod2.make_params(g2_amplitude=185.0, g2_center=182.0, g2_sigma=5.84, g2_beta=1)"
   ]
  },
  {
   "cell_type": "code",
   "execution_count": 10,
   "id": "2638654a-e572-43e5-8fd3-42e2cca8bbba",
   "metadata": {
    "tags": []
   },
   "outputs": [
    {
     "name": "stdout",
     "output_type": "stream",
     "text": [
      "------------------------------------------------------\n",
      "[[Model]]\n",
      "    Model(moffat, prefix='g2_')\n",
      "[[Fit Statistics]]\n",
      "    # fitting method   = leastsq\n",
      "    # function evals   = 1408\n",
      "    # data points      = 35\n",
      "    # variables        = 4\n",
      "    chi-square         = 31.0030056\n",
      "    reduced chi-square = 1.00009696\n",
      "    Akaike info crit   = 3.75576327\n",
      "    Bayesian info crit = 9.97715551\n",
      "    R-squared          = 0.99853313\n",
      "[[Variables]]\n",
      "    g2_amplitude:  167.430273 +/- 4.04482379 (2.42%) (init = 185)\n",
      "    g2_center:     182.450173 +/- 0.46782694 (0.26%) (init = 182)\n",
      "    g2_sigma:      2345.67572 +/- 22641504.9 (965244.46%) (init = 5.84)\n",
      "    g2_beta:       9824.57424 +/- 1.8892e+08 (1922899.10%) (init = 1)\n",
      "    g2_fwhm:       39.4059220 +/- 1484.02410 (3765.99%) == '2*g2_sigma*sqrt(2**(1.0/max(1e-3, g2_beta))-1)'\n",
      "    g2_height:     167.430273 +/- 4.04482379 (2.42%) == 'g2_amplitude'\n",
      "[[Correlations]] (unreported correlations are < 0.100)\n",
      "    C(g2_sigma, g2_beta)      = +1.0000\n",
      "    C(g2_amplitude, g2_sigma) = -0.5679\n",
      "    C(g2_amplitude, g2_beta)  = -0.5679\n",
      "    C(g2_center, g2_sigma)    = +0.1164\n",
      "    C(g2_center, g2_beta)     = +0.1164\n",
      "------------------------------------------------------\n"
     ]
    }
   ],
   "source": [
    "#fit with weights=1./yerr\n",
    "result2 = mod2.fit(channel_range_dfs['Range 165-200']['Counts'], pars2, x = channel_range_dfs['Range 165-200']['Channel'],\n",
    "                   weights = 1 / (channel_range_dfs['Range 165-200'][\"Channel\"] * 0.066895))\n",
    "\n",
    "#print the Fit Statistics and parameters\n",
    "print('------------------------------------------------------')\n",
    "print(result2.fit_report())\n",
    "print('------------------------------------------------------')"
   ]
  },
  {
   "cell_type": "markdown",
   "id": "9eca0356-313a-427c-9cd2-b008186f37d4",
   "metadata": {},
   "source": [
    "## Plot the model"
   ]
  },
  {
   "cell_type": "code",
   "execution_count": 11,
   "id": "1a6ec5ef-37e4-4acc-8a34-fada8924ac6d",
   "metadata": {
    "tags": []
   },
   "outputs": [
    {
     "data": {
      "image/png": "[encoded data removed]",
      "text/plain": [
       "<Figure size 900x600 with 1 Axes>"
      ]
     },
     "metadata": {},
     "output_type": "display_data"
    }
   ],
   "source": [
    "#Uncomment the line below to make the graph interactive\n",
    "#%matplotlib widget\n",
    "\n",
    "plt.figure(figsize=(9,6))\n",
    "\n",
    "#plot data and models\n",
    "plt.plot('Channel', 'Counts', data = channel_range_dfs['Range 0-165'], color = '#7c8bfd', marker = \".\")\n",
    "\n",
    "plt.plot('Channel', 'Counts', data = channel_range_dfs['Range 165-200'], color = '#7c8bfd', marker = \".\")\n",
    "plt.plot(channel_range_dfs['Range 165-200']['Channel'], result2.best_fit, 'r-', linewidth=2.5)\n",
    "\n",
    "plt.plot('Channel', 'Counts', data = channel_range_dfs['Range 200-700'], color = '#7c8bfd', marker = \".\")\n",
    "\n",
    "plt.ylabel('Counts')\n",
    "plt.xlabel('Channel')\n",
    "\n",
    "plt.annotate('gamma@661.657keV', xy=(193, 173), xytext=(210, 200),\n",
    "            arrowprops=dict(arrowstyle=\"->\",\n",
    "                            connectionstyle=\"arc\"),\n",
    "            )\n",
    "\n",
    "\n",
    "# Create legend entries for the blue and red lines (data and model) and display the legend\n",
    "blue_line = mlines.Line2D([], [], color='#7c8bfd', label='Data')\n",
    "\n",
    "red_line = mlines.Line2D([], [], color='red', label='Moffat Fit', linewidth=2.5)\n",
    "\n",
    "plt.legend([blue_line, red_line], ['Data', 'Moffat Fit'], loc='lower center', bbox_to_anchor= (0.5, 1.005), ncol=2,\n",
    "            borderaxespad=0, frameon=False)\n",
    "\n",
    "plt.title('Cs-137 gamma ray scattered at 110deg from an Al target ', y = 1.07)\n",
    "\n",
    "#show the plot\n",
    "plt.show()"
   ]
  },
  {
   "cell_type": "markdown",
   "id": "dd2b1027-4a59-4481-a1c1-3fbcebed488d",
   "metadata": {},
   "source": [
    "# Estimate the measured energy using the calibration curve (prepared in notebook 5) "
   ]
  },
  {
   "cell_type": "code",
   "execution_count": 12,
   "id": "24a2edda-9e8b-4159-ab0a-3abaf36f6a0c",
   "metadata": {
    "tags": []
   },
   "outputs": [
    {
     "name": "stdout",
     "output_type": "stream",
     "text": [
      "\n",
      "Linear Model Parameters\n",
      "-------------------------------\n",
      "Parameter    Value       Stderr\n",
      "p_r1_c0   -27.70990     4.87254\n",
      "p_r1_c1     1.45191     0.12099\n",
      "\n",
      "Linear Model Fit Stats\n",
      "-------------------------------\n",
      "Reduced Chi-squared =  1.0038505734658223\n",
      "r-squared =  0.9999951130945643\n",
      "\n",
      "Quadratic Model Parameters\n",
      "-------------------------------\n",
      "Parameter    Value       Stderr\n",
      "p_r2_c0   -35.38041     7.32770\n",
      "p_r2_c1     1.71396     0.22612\n",
      "p_r2_c2    -0.00061     0.00046\n",
      "\n",
      "Quadratic Model Fit Stats\n",
      "-------------------------------\n",
      "Reduced Chi-squared =  1.00411106030073\n",
      "r-squared =  0.9999959265220606\n"
     ]
    }
   ],
   "source": [
    "# Data\n",
    "x_r = np.array([29.3812658, 70.4034958, 100.839961, 102.324468, 254.677094, 350.450834, 638.540552, 738.972592])\n",
    "y_r = np.array([14.4136, 80.998, 122.060, 160.605, 356.005, 511.006, 661.6570, 1274.54])\n",
    "yerr_r = np.array([0.0003, 0.008, 0.010, 0.015, 0.017, 0.008, 0.003, 0.008])\n",
    "\n",
    "#use builtin NameModel, specify prefix for each:\n",
    "mod_r1 = PolynomialModel(1, prefix='p_r1_')\n",
    "mod_r2 = PolynomialModel(2, prefix='p_r2_')\n",
    "\n",
    "#set initial parameters\n",
    "pars_r1 = mod_r1.guess(y_r, x=x_r)\n",
    "pars_r2 = mod_r2.guess(y_r, x=x_r)    \n",
    "\n",
    "#fit with weights=1./yerr\n",
    "result_r1 = mod_r1.fit(y_r, pars_r1, x=x_r, weights = 1. / (y_r * np.mean(yerr_r / y_r) + y_r * 0.198))\n",
    "result_r2 = mod_r2.fit(y_r, pars_r2, x=x_r, weights = 1. / (y_r * np.mean(yerr_r / y_r) + y_r * 0.186))\n",
    "\n",
    "\n",
    "print()\n",
    "print(\"Linear Model Parameters\")\n",
    "print('-------------------------------')\n",
    "print('Parameter    Value       Stderr')\n",
    "for name, param in result_r1.params.items():\n",
    "    print(f'{name:7s} {param.value:11.5f} {param.stderr:11.5f}')\n",
    "\n",
    "print()\n",
    "print(\"Linear Model Fit Stats\")\n",
    "print('-------------------------------')\n",
    "print(\"Reduced Chi-squared = \", result_r1.redchi)\n",
    "print(\"r-squared = \", result_r1.rsquared)\n",
    "    \n",
    "print()\n",
    "print(\"Quadratic Model Parameters\")\n",
    "print('-------------------------------')\n",
    "print('Parameter    Value       Stderr')\n",
    "for name, param in result_r2.params.items():\n",
    "    print(f'{name:7s} {param.value:11.5f} {param.stderr:11.5f}')    \n",
    "\n",
    "print()\n",
    "print(\"Quadratic Model Fit Stats\")\n",
    "print('-------------------------------')\n",
    "print(\"Reduced Chi-squared = \", result_r2.redchi)\n",
    "print(\"r-squared = \", result_r2.rsquared)"
   ]
  },
  {
   "cell_type": "code",
   "execution_count": 13,
   "id": "bb01c565-347f-4bec-97aa-4b84b3e66267",
   "metadata": {
    "tags": []
   },
   "outputs": [
    {
     "name": "stdout",
     "output_type": "stream",
     "text": [
      "182.45017289124942\n"
     ]
    }
   ],
   "source": [
    "#Print the new position\n",
    "varys = result2.params.valuesdict()\n",
    "\n",
    "position = varys['g2_center']\n",
    "\n",
    "print(position)"
   ]
  },
  {
   "cell_type": "code",
   "execution_count": 14,
   "id": "95593d9f-fdd4-4e12-b3c7-0f72c9fd9f06",
   "metadata": {
    "tags": []
   },
   "outputs": [
    {
     "name": "stdout",
     "output_type": "stream",
     "text": [
      "\n",
      "Linear model estimation\n",
      "----------------------------\n",
      "245.2670132766635\n",
      "\n",
      "Quadratic model estimation\n",
      "----------------------------\n",
      "218.43755038418323\n"
     ]
    }
   ],
   "source": [
    "print()\n",
    "print(\"Linear model estimation\")\n",
    "print('----------------------------')\n",
    "print(result_r1.eval(pars_r1, x = position))\n",
    "\n",
    "print()\n",
    "print(\"Quadratic model estimation\")\n",
    "print('----------------------------')\n",
    "print(result_r2.eval(pars_r2, x = position))"
   ]
  },
  {
   "cell_type": "markdown",
   "id": "520ad9a8-4de5-45a9-a98d-7711f0e65c31",
   "metadata": {},
   "source": [
    "## Creating a new table row by plugging the result into the Compton formula\n",
    "\n",
    "![](./img/Compton_formula.png)"
   ]
  },
  {
   "cell_type": "code",
   "execution_count": 15,
   "id": "3c4d9ba1-096e-4484-95d8-749f408ce309",
   "metadata": {
    "tags": []
   },
   "outputs": [
    {
     "name": "stdout",
     "output_type": "stream",
     "text": [
      "{'x': 1.3420201433256687, 'y': 4.577967470525199}\n"
     ]
    }
   ],
   "source": [
    "#extract the energy from the model \n",
    "energy = result_r2.eval(pars_r2, x = position) \n",
    "\n",
    "#Calculate the variables (to be compared in the last step) according to the Compton model  \n",
    "x = 1 - np.cos(np.deg2rad(110))\n",
    "y = 1 / (energy / 1000) #convert the energy to MeV\n",
    "\n",
    "#Add the data to a dictionary\n",
    "Compton_data = {\"x\" : x, \"y\" : y}\n",
    "\n",
    "#Preview the created row of data\n",
    "print(Compton_data)"
   ]
  },
  {
   "cell_type": "markdown",
   "id": "e9b2b3da-bb32-4c5c-bb6c-4810a93d4e60",
   "metadata": {},
   "source": [
    "### Append the values to a csv file"
   ]
  },
  {
   "cell_type": "code",
   "execution_count": 16,
   "id": "1d204dbb-0777-4775-b631-9aa6c0e0ad1e",
   "metadata": {},
   "outputs": [],
   "source": [
    "# import csv\n",
    "\n",
    "# with open(r'./Data/Compton_data.csv', 'a', newline='') as csvfile:\n",
    "#     fieldnames = ['x','y']\n",
    "#     writer = csv.DictWriter(csvfile, fieldnames=fieldnames)\n",
    "\n",
    "#     writer.writerow(Compton_data)"
   ]
  },
  {
   "cell_type": "markdown",
   "id": "a2bdaa9f-1c4c-4266-9935-26ead4c009d5",
   "metadata": {},
   "source": [
    "** **\n",
    "\n",
    "## Author\n",
    "\n",
    "### <a href=\"https://www.linkedin.com/in/alin-airinei/\">Alin Airinei</a>\n",
    "\n",
    "** **"
   ]
  },
  {
   "cell_type": "code",
   "execution_count": null,
   "id": "d254b51a-485f-44d0-8c66-84f133b6a033",
   "metadata": {},
   "outputs": [],
   "source": []
  }
 ],
 "metadata": {
  "kernelspec": {
   "display_name": "Python 3 (ipykernel)",
   "language": "python",
   "name": "python3"
  },
  "language_info": {
   "codemirror_mode": {
    "name": "ipython",
    "version": 3
   },
   "file_extension": ".py",
   "mimetype": "text/x-python",
   "name": "python",
   "nbconvert_exporter": "python",
   "pygments_lexer": "ipython3",
   "version": "3.11.4"
  },
  "widgets": {
   "application/vnd.jupyter.widget-state+json": {
    "state": {},
    "version_major": 2,
    "version_minor": 0
   }
  }
 },
 "nbformat": 4,
 "nbformat_minor": 5
}
