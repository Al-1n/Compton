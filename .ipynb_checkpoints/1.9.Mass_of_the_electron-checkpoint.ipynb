{
 "cells": [
  {
   "cell_type": "markdown",
   "id": "5e599af7-65fe-4c15-97dc-ba5348ef4db9",
   "metadata": {
    "tags": []
   },
   "source": [
    "** **\n",
    "\n",
    "<div style=\"text-align:center\"><img src=\"./img/compton_scattering.png\" /></div>\n",
    "\n",
    "** **\n",
    "\n",
    "# Estimating the mass of the electron\n",
    "\n",
    "* This project uses the lmfit package. Lmfit provides curve fiting using non-linear least squares minimization and was developed by Matt Newville: https://github.com/newville."
   ]
  },
  {
   "cell_type": "markdown",
   "id": "588f0245-2351-4b04-aaf6-782639de5882",
   "metadata": {},
   "source": [
    "## Install and import libraries"
   ]
  },
  {
   "cell_type": "code",
   "execution_count": 14,
   "id": "df87efcc-327c-4553-9203-b5e65dc4f829",
   "metadata": {},
   "outputs": [],
   "source": [
    "#uncomment the following lines to install lmfit\n",
    "\n",
    "#from subprocess import call\n",
    "# call(['pip', 'install', 'lmfit'])\n",
    "# call(['pip', 'install', 'matplotlib'])\n",
    "#call(['pip', 'install', 'ipympl'])\n",
    "\n",
    "#install pymc3\n",
    "#%pip install pymc3"
   ]
  },
  {
   "cell_type": "code",
   "execution_count": 15,
   "id": "d9edff76-80ce-403c-b7e4-5e0f3afcb05c",
   "metadata": {
    "tags": []
   },
   "outputs": [],
   "source": [
    "#import libraries\n",
    "from numpy import sqrt, pi, exp, linspace, loadtxt\n",
    "import matplotlib.pyplot as plt\n",
    "from lmfit.models import LinearModel, PolynomialModel\n",
    "import numpy as np\n",
    "import matplotlib\n",
    "import pandas as pd\n",
    "\n",
    "matplotlib.rcParams['legend.handlelength'] = 1\n",
    "matplotlib.rcParams['legend.numpoints'] = 1"
   ]
  },
  {
   "cell_type": "markdown",
   "id": "2574555a-b388-4080-8fdf-b110e5518344",
   "metadata": {},
   "source": [
    "## Data"
   ]
  },
  {
   "cell_type": "code",
   "execution_count": 16,
   "id": "647d830c-ad93-4a25-9a10-f9817d7af288",
   "metadata": {
    "tags": []
   },
   "outputs": [
    {
     "data": {
      "text/html": [
       "<div>\n",
       "<style scoped>\n",
       "    .dataframe tbody tr th:only-of-type {\n",
       "        vertical-align: middle;\n",
       "    }\n",
       "\n",
       "    .dataframe tbody tr th {\n",
       "        vertical-align: top;\n",
       "    }\n",
       "\n",
       "    .dataframe thead th {\n",
       "        text-align: right;\n",
       "    }\n",
       "</style>\n",
       "<table border=\"1\" class=\"dataframe\">\n",
       "  <thead>\n",
       "    <tr style=\"text-align: right;\">\n",
       "      <th></th>\n",
       "      <th>x</th>\n",
       "      <th>y</th>\n",
       "    </tr>\n",
       "  </thead>\n",
       "  <tbody>\n",
       "    <tr>\n",
       "      <th>0</th>\n",
       "      <td>0.048943</td>\n",
       "      <td>1.753527</td>\n",
       "    </tr>\n",
       "    <tr>\n",
       "      <th>1</th>\n",
       "      <td>0.060307</td>\n",
       "      <td>1.746433</td>\n",
       "    </tr>\n",
       "    <tr>\n",
       "      <th>2</th>\n",
       "      <td>0.093692</td>\n",
       "      <td>1.774167</td>\n",
       "    </tr>\n",
       "    <tr>\n",
       "      <th>3</th>\n",
       "      <td>0.133975</td>\n",
       "      <td>1.857251</td>\n",
       "    </tr>\n",
       "    <tr>\n",
       "      <th>4</th>\n",
       "      <td>0.233956</td>\n",
       "      <td>2.225878</td>\n",
       "    </tr>\n",
       "    <tr>\n",
       "      <th>5</th>\n",
       "      <td>0.357212</td>\n",
       "      <td>2.511150</td>\n",
       "    </tr>\n",
       "    <tr>\n",
       "      <th>6</th>\n",
       "      <td>0.500000</td>\n",
       "      <td>2.827525</td>\n",
       "    </tr>\n",
       "    <tr>\n",
       "      <th>7</th>\n",
       "      <td>0.657980</td>\n",
       "      <td>3.179167</td>\n",
       "    </tr>\n",
       "    <tr>\n",
       "      <th>8</th>\n",
       "      <td>0.826352</td>\n",
       "      <td>3.571215</td>\n",
       "    </tr>\n",
       "    <tr>\n",
       "      <th>9</th>\n",
       "      <td>1.000000</td>\n",
       "      <td>3.889928</td>\n",
       "    </tr>\n",
       "    <tr>\n",
       "      <th>10</th>\n",
       "      <td>1.173648</td>\n",
       "      <td>4.263340</td>\n",
       "    </tr>\n",
       "    <tr>\n",
       "      <th>11</th>\n",
       "      <td>1.342020</td>\n",
       "      <td>4.577967</td>\n",
       "    </tr>\n",
       "    <tr>\n",
       "      <th>12</th>\n",
       "      <td>1.500000</td>\n",
       "      <td>4.883209</td>\n",
       "    </tr>\n",
       "  </tbody>\n",
       "</table>\n",
       "</div>"
      ],
      "text/plain": [
       "           x         y\n",
       "0   0.048943  1.753527\n",
       "1   0.060307  1.746433\n",
       "2   0.093692  1.774167\n",
       "3   0.133975  1.857251\n",
       "4   0.233956  2.225878\n",
       "5   0.357212  2.511150\n",
       "6   0.500000  2.827525\n",
       "7   0.657980  3.179167\n",
       "8   0.826352  3.571215\n",
       "9   1.000000  3.889928\n",
       "10  1.173648  4.263340\n",
       "11  1.342020  4.577967\n",
       "12  1.500000  4.883209"
      ]
     },
     "execution_count": 16,
     "metadata": {},
     "output_type": "execute_result"
    }
   ],
   "source": [
    "#impot the csv (generated from the previous steps) into a dataframe\n",
    "df = pd.read_csv(\"./Data/Compton_data.csv\", header = None)\n",
    "\n",
    "#rename columns\n",
    "df.columns = [\"x\", \"y\"]\n",
    "\n",
    "#preview the data\n",
    "df"
   ]
  },
  {
   "cell_type": "markdown",
   "id": "250442d9-f1aa-4da5-ba6a-ccffb46cde69",
   "metadata": {},
   "source": [
    "## Define the model, fit, and print the results"
   ]
  },
  {
   "cell_type": "code",
   "execution_count": 17,
   "id": "28912b70-62da-41ab-be8e-db6347168992",
   "metadata": {},
   "outputs": [],
   "source": [
    "#use builtin model:\n",
    "mod1 = LinearModel(prefix='p1_')\n",
    "\n",
    "#initialize the parameters to be optimized\n",
    "pars1 = mod1.guess(df[\"y\"], x=df[\"x\"])"
   ]
  },
  {
   "cell_type": "code",
   "execution_count": 18,
   "id": "ffa4a454-a60c-4666-adb1-588b1defc572",
   "metadata": {
    "tags": []
   },
   "outputs": [
    {
     "name": "stdout",
     "output_type": "stream",
     "text": [
      "\n",
      "[[Model]]\n",
      "    Model(linear, prefix='p1_')\n",
      "[[Fit Statistics]]\n",
      "    # fitting method   = leastsq\n",
      "    # function evals   = 7\n",
      "    # data points      = 13\n",
      "    # variables        = 2\n",
      "    chi-square         = 11.0038783\n",
      "    reduced chi-square = 1.00035258\n",
      "    Akaike info crit   = 1.83287959\n",
      "    Bayesian info crit = 2.96277830\n",
      "    R-squared          = 0.29390869\n",
      "[[Variables]]\n",
      "    p1_slope:      2.27157999 +/- 0.04863668 (2.14%) (init = 2.211904)\n",
      "    p1_intercept:  1.62132431 +/- 0.02332938 (1.44%) (init = 1.655738)\n",
      "[[Correlations]] (unreported correlations are < 0.100)\n",
      "    C(p1_slope, p1_intercept) = -0.6429\n",
      "\n"
     ]
    }
   ],
   "source": [
    "#fit with weights=1./yerr\n",
    "result1 = mod1.fit(df[\"y\"], pars1, x=df[\"x\"], weights = 1. / (df[\"y\"] * 0.0261))\n",
    "\n",
    "#print the Fit Statistics and parameters\n",
    "print()\n",
    "print(result1.fit_report())\n",
    "print()"
   ]
  },
  {
   "cell_type": "markdown",
   "id": "c7f258d1-3364-447a-8c6b-6f50b9f8c005",
   "metadata": {},
   "source": [
    "## Plot the model"
   ]
  },
  {
   "cell_type": "code",
   "execution_count": 40,
   "id": "1d92d77e-02a3-4e27-a6d9-d26d5cb8a16a",
   "metadata": {
    "tags": []
   },
   "outputs": [
    {
     "data": {
      "image/png": "[encoded data removed]",
      "text/plain": [
       "<Figure size 900x600 with 1 Axes>"
      ]
     },
     "metadata": {},
     "output_type": "display_data"
    }
   ],
   "source": [
    "#set the figure size \n",
    "plt.figure(figsize=(9,6))\n",
    "\n",
    "#plot data and model\n",
    "plt.plot(df[\"x\"], df[\"y\"], \"v\", color='#ff6361', markersize=12)\n",
    "plt.plot(df[\"x\"], result1.best_fit, '#003f5c', linewidth=2.5)\n",
    "\n",
    "#customize the labels\n",
    "plt.ylabel(r'$1/E_{\\theta} - 1/E_{0}$')\n",
    "plt.xlabel(r'$(1-cos{\\theta}$)')\n",
    "plt.legend(('Data points','$1st$ degree pol'),loc='best')\n",
    "\n",
    "#show the graph\n",
    "plt.show()"
   ]
  },
  {
   "cell_type": "markdown",
   "id": "fd46b326-5f05-4d6e-87a6-245bdee11dfe",
   "metadata": {},
   "source": [
    "## Because the slope is equal to $ \\frac{1}{m_e c^2}$ the mass of the electron will be given by:\n",
    "\n",
    "# $m_e = \\frac{1}{slope \\cdot c^2}$"
   ]
  },
  {
   "cell_type": "code",
   "execution_count": 20,
   "id": "2be68b70-3fb4-482c-b75c-6fc9bceeeb14",
   "metadata": {
    "tags": []
   },
   "outputs": [
    {
     "name": "stdout",
     "output_type": "stream",
     "text": [
      "2.271579988552963\n"
     ]
    }
   ],
   "source": [
    "#Print the new position\n",
    "varys = result1.params.valuesdict()\n",
    "\n",
    "slope = varys[\"p1_slope\"]\n",
    "\n",
    "print(slope)"
   ]
  },
  {
   "cell_type": "code",
   "execution_count": 21,
   "id": "d6ccef0e-3967-44ca-9492-c447f9b92558",
   "metadata": {
    "tags": []
   },
   "outputs": [],
   "source": [
    "#The speed of light\n",
    "\n",
    "c = 2.9979e8"
   ]
  },
  {
   "cell_type": "code",
   "execution_count": 38,
   "id": "f4387b99-8b4a-41d5-95e5-ba15447fcd50",
   "metadata": {
    "tags": []
   },
   "outputs": [
    {
     "name": "stdout",
     "output_type": "stream",
     "text": [
      "\n",
      "The estimated mass of the electron is  0.4402 MeV/c^2\n",
      "\n"
     ]
    }
   ],
   "source": [
    "#Calculate the mass of the electron in MeV/c^2\n",
    "\n",
    "mass_MeV = 1 / slope\n",
    "\n",
    "print()\n",
    "print(\"The estimated mass of the electron is\", f'{mass_MeV: .4}', \"MeV/c^2\")\n",
    "print()"
   ]
  },
  {
   "cell_type": "markdown",
   "id": "c2e80133-0bc4-4429-b39b-e8e190232422",
   "metadata": {
    "tags": []
   },
   "source": [
    "** **\n",
    "\n",
    "### The result above is in $\\frac{MeV}{c^2}$ which is a convenient unit for computations in modern physics. For conversion to SI the following unit analysis needs to be applied:\n",
    "\n",
    "## $\\frac{MeV}{c^2} \\times 10^6\\frac{eV}{MeV} \\times 1.6022 \\times 10^{-19} \\frac{J}{eV} = \\frac{Kg\\frac{m^2}{s^2}}{c^2} = Kg$\n",
    "\n",
    "** **"
   ]
  },
  {
   "cell_type": "code",
   "execution_count": 39,
   "id": "668bc7e6-a4a9-49a1-8746-10c87a062d17",
   "metadata": {
    "tags": []
   },
   "outputs": [
    {
     "name": "stdout",
     "output_type": "stream",
     "text": [
      "\n",
      "The estimated mass of the electron is 7.8479e-31 Kg\n",
      "\n"
     ]
    }
   ],
   "source": [
    "#Calculate the mass of the electron in Kg\n",
    "\n",
    "mass_Kg = (1/slope) * 10**6 * 1.6022 * 10**-19 / c**2\n",
    "\n",
    "print()\n",
    "print(\"The estimated mass of the electron is\", \"{:.4e}\".format(mass_Kg), \"Kg\")\n",
    "print()"
   ]
  },
  {
   "cell_type": "markdown",
   "id": "542ac43e-a664-40c7-85e2-640f60e84ef4",
   "metadata": {},
   "source": [
    "### The value above is the right order of magnitude but not quite the same as the accepted value of $9.1094 \\times 10^-31 Kg$ or $0.5110 \\frac{MeV}{c^2}$. Repeating the experiment a suficient number of times would produce a distribution of mass values with a mean expected to approach the standard value.    "
   ]
  },
  {
   "cell_type": "markdown",
   "id": "62b97a09-a351-4f04-bdb3-54e2de695082",
   "metadata": {},
   "source": [
    "** **\n",
    "\n",
    "## Author\n",
    "\n",
    "### <a href=\"https://www.linkedin.com/in/alin-airinei/\">Alin Airinei</a>\n",
    "\n",
    "** **"
   ]
  },
  {
   "cell_type": "code",
   "execution_count": null,
   "id": "075ba662-d893-4e06-80a2-df69e3b11ebf",
   "metadata": {},
   "outputs": [],
   "source": []
  }
 ],
 "metadata": {
  "kernelspec": {
   "display_name": "Python 3 (ipykernel)",
   "language": "python",
   "name": "python3"
  },
  "language_info": {
   "codemirror_mode": {
    "name": "ipython",
    "version": 3
   },
   "file_extension": ".py",
   "mimetype": "text/x-python",
   "name": "python",
   "nbconvert_exporter": "python",
   "pygments_lexer": "ipython3",
   "version": "3.11.4"
  },
  "widgets": {
   "application/vnd.jupyter.widget-state+json": {
    "state": {},
    "version_major": 2,
    "version_minor": 0
   }
  }
 },
 "nbformat": 4,
 "nbformat_minor": 5
}
