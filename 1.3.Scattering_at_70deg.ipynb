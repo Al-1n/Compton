{
 "cells": [
  {
   "cell_type": "markdown",
   "id": "2948d91d-012b-454b-9943-c5234f977f73",
   "metadata": {},
   "source": [
    "** ** \n",
    "\n",
    "<figure>\n",
    "<div style=\"text-align:center\"><img src=\"./img/compton_setup.png\" /></div>\n",
    "<p><center>The experimental setup.</center></p>\n",
    "</figure>\n",
    "\n",
    "# Compton gamma-ray scattering at a 70-degree angle\n",
    "\n",
    "** **\n",
    "\n",
    "* This project uses the lmfit package. Lmfit provides curve fiting using non-linear least squares minimization and was developed by Matt Newville: https://github.com/newville."
   ]
  },
  {
   "cell_type": "markdown",
   "id": "7ec1ab3d-29fd-4299-a333-2d6a3a39ef87",
   "metadata": {},
   "source": [
    "## Install and import libraries"
   ]
  },
  {
   "cell_type": "code",
   "execution_count": 1,
   "id": "7b216f81-7f4e-43ed-bef9-1dad46b7f562",
   "metadata": {
    "tags": []
   },
   "outputs": [],
   "source": [
    "#uncomment the following line to install lmfit\n",
    "#!pip install lmfit"
   ]
  },
  {
   "cell_type": "code",
   "execution_count": 2,
   "id": "8e53f6d8-c3aa-44c4-a10c-64f76c6e361e",
   "metadata": {
    "tags": []
   },
   "outputs": [],
   "source": [
    "#import libraries\n",
    "from numpy import sqrt, pi, exp, linspace, loadtxt\n",
    "from lmfit.models import MoffatModel, PolynomialModel\n",
    "import matplotlib.pyplot as plt\n",
    "import pylab as pl\n",
    "import numpy as np\n",
    "import matplotlib.lines as mlines\n",
    "import pandas as pd\n",
    "from scipy.optimize import curve_fit\n",
    "from scipy.signal import find_peaks\n",
    "from sklearn.preprocessing import PolynomialFeatures\n",
    "from sklearn.linear_model import LinearRegression\n",
    "from sklearn.pipeline import make_pipeline"
   ]
  },
  {
   "cell_type": "markdown",
   "id": "5cfd636c-4ea3-4e40-a7f6-977a6f335ffe",
   "metadata": {},
   "source": [
    "## Data Wrangling"
   ]
  },
  {
   "cell_type": "code",
   "execution_count": 3,
   "id": "907e6f02-3654-49fb-b3a4-716fe6bd6dd1",
   "metadata": {
    "tags": []
   },
   "outputs": [],
   "source": [
    "#Load data\n",
    "\n",
    "#Load channel counts of scattering from large aluminum target at 18deg\n",
    "df_70 = pd.read_csv(\"./Data/180912-1405_Cs-137_LgHole_LgAl_070-degrees.csv\")"
   ]
  },
  {
   "cell_type": "code",
   "execution_count": 4,
   "id": "a6c9720c-4b60-49e7-9638-b6e399e68f9f",
   "metadata": {
    "tags": []
   },
   "outputs": [
    {
     "data": {
      "text/html": [
       "<div>\n",
       "<style scoped>\n",
       "    .dataframe tbody tr th:only-of-type {\n",
       "        vertical-align: middle;\n",
       "    }\n",
       "\n",
       "    .dataframe tbody tr th {\n",
       "        vertical-align: top;\n",
       "    }\n",
       "\n",
       "    .dataframe thead th {\n",
       "        text-align: right;\n",
       "    }\n",
       "</style>\n",
       "<table border=\"1\" class=\"dataframe\">\n",
       "  <thead>\n",
       "    <tr style=\"text-align: right;\">\n",
       "      <th></th>\n",
       "      <th>0</th>\n",
       "    </tr>\n",
       "  </thead>\n",
       "  <tbody>\n",
       "    <tr>\n",
       "      <th>0</th>\n",
       "      <td>0</td>\n",
       "    </tr>\n",
       "    <tr>\n",
       "      <th>1</th>\n",
       "      <td>0</td>\n",
       "    </tr>\n",
       "    <tr>\n",
       "      <th>2</th>\n",
       "      <td>0</td>\n",
       "    </tr>\n",
       "    <tr>\n",
       "      <th>3</th>\n",
       "      <td>0</td>\n",
       "    </tr>\n",
       "    <tr>\n",
       "      <th>4</th>\n",
       "      <td>0</td>\n",
       "    </tr>\n",
       "  </tbody>\n",
       "</table>\n",
       "</div>"
      ],
      "text/plain": [
       "   0\n",
       "0  0\n",
       "1  0\n",
       "2  0\n",
       "3  0\n",
       "4  0"
      ]
     },
     "execution_count": 4,
     "metadata": {},
     "output_type": "execute_result"
    }
   ],
   "source": [
    "df_70.head()"
   ]
  },
  {
   "cell_type": "code",
   "execution_count": 5,
   "id": "c0717cd1-b5a5-4ba8-94e0-dca4158d9c14",
   "metadata": {
    "tags": []
   },
   "outputs": [
    {
     "data": {
      "text/html": [
       "<div>\n",
       "<style scoped>\n",
       "    .dataframe tbody tr th:only-of-type {\n",
       "        vertical-align: middle;\n",
       "    }\n",
       "\n",
       "    .dataframe tbody tr th {\n",
       "        vertical-align: top;\n",
       "    }\n",
       "\n",
       "    .dataframe thead th {\n",
       "        text-align: right;\n",
       "    }\n",
       "</style>\n",
       "<table border=\"1\" class=\"dataframe\">\n",
       "  <thead>\n",
       "    <tr style=\"text-align: right;\">\n",
       "      <th></th>\n",
       "      <th>Channel</th>\n",
       "      <th>0</th>\n",
       "    </tr>\n",
       "  </thead>\n",
       "  <tbody>\n",
       "    <tr>\n",
       "      <th>1</th>\n",
       "      <td>1</td>\n",
       "      <td>0</td>\n",
       "    </tr>\n",
       "    <tr>\n",
       "      <th>2</th>\n",
       "      <td>2</td>\n",
       "      <td>0</td>\n",
       "    </tr>\n",
       "    <tr>\n",
       "      <th>3</th>\n",
       "      <td>3</td>\n",
       "      <td>0</td>\n",
       "    </tr>\n",
       "    <tr>\n",
       "      <th>4</th>\n",
       "      <td>4</td>\n",
       "      <td>0</td>\n",
       "    </tr>\n",
       "    <tr>\n",
       "      <th>5</th>\n",
       "      <td>5</td>\n",
       "      <td>0</td>\n",
       "    </tr>\n",
       "    <tr>\n",
       "      <th>6</th>\n",
       "      <td>6</td>\n",
       "      <td>0</td>\n",
       "    </tr>\n",
       "    <tr>\n",
       "      <th>7</th>\n",
       "      <td>7</td>\n",
       "      <td>0</td>\n",
       "    </tr>\n",
       "    <tr>\n",
       "      <th>8</th>\n",
       "      <td>8</td>\n",
       "      <td>0</td>\n",
       "    </tr>\n",
       "    <tr>\n",
       "      <th>9</th>\n",
       "      <td>9</td>\n",
       "      <td>0</td>\n",
       "    </tr>\n",
       "    <tr>\n",
       "      <th>10</th>\n",
       "      <td>10</td>\n",
       "      <td>0</td>\n",
       "    </tr>\n",
       "    <tr>\n",
       "      <th>11</th>\n",
       "      <td>11</td>\n",
       "      <td>0</td>\n",
       "    </tr>\n",
       "    <tr>\n",
       "      <th>12</th>\n",
       "      <td>12</td>\n",
       "      <td>0</td>\n",
       "    </tr>\n",
       "    <tr>\n",
       "      <th>13</th>\n",
       "      <td>13</td>\n",
       "      <td>0</td>\n",
       "    </tr>\n",
       "    <tr>\n",
       "      <th>14</th>\n",
       "      <td>14</td>\n",
       "      <td>0</td>\n",
       "    </tr>\n",
       "    <tr>\n",
       "      <th>15</th>\n",
       "      <td>15</td>\n",
       "      <td>0</td>\n",
       "    </tr>\n",
       "  </tbody>\n",
       "</table>\n",
       "</div>"
      ],
      "text/plain": [
       "    Channel  0\n",
       "1         1  0\n",
       "2         2  0\n",
       "3         3  0\n",
       "4         4  0\n",
       "5         5  0\n",
       "6         6  0\n",
       "7         7  0\n",
       "8         8  0\n",
       "9         9  0\n",
       "10       10  0\n",
       "11       11  0\n",
       "12       12  0\n",
       "13       13  0\n",
       "14       14  0\n",
       "15       15  0"
      ]
     },
     "execution_count": 5,
     "metadata": {},
     "output_type": "execute_result"
    }
   ],
   "source": [
    "#force start the index at 1 and add it as a column to match the channel numbers\n",
    "# Set the index to start at 1\n",
    "df_70.index = range(1, len(df_70) + 1)\n",
    "\n",
    "# Add the index as the first column\n",
    "df_70.insert(0, 'Channel', df_70.index)\n",
    "\n",
    "df_70.head(15)"
   ]
  },
  {
   "cell_type": "code",
   "execution_count": 6,
   "id": "77a90534-79ad-495f-839b-7da56dc35c64",
   "metadata": {
    "tags": []
   },
   "outputs": [
    {
     "data": {
      "image/png": "[encoded data removed]",
      "text/plain": [
       "<Figure size 900x600 with 1 Axes>"
      ]
     },
     "metadata": {},
     "output_type": "display_data"
    }
   ],
   "source": [
    "#preview the data \n",
    "\n",
    "#Uncomment the next line to make the graph interactive\n",
    "#%matplotlib widget\n",
    "\n",
    "\n",
    "#rename the second column\n",
    "df_70.rename(columns={\"0\": \"Counts\"}, inplace=True)\n",
    "\n",
    "#remove unnecessary data\n",
    "df_70 = df_70[df_70['Channel'] <= 700]\n",
    "\n",
    "plt.figure(figsize=(9,6))\n",
    "\n",
    "#preview the spectrum\n",
    "plt.plot('Channel', 'Counts', data = df_70, marker = \".\")\n",
    "\n",
    "plt.show()"
   ]
  },
  {
   "cell_type": "code",
   "execution_count": 7,
   "id": "55c5918c-620c-4d5a-9869-c27dae6a9805",
   "metadata": {},
   "outputs": [
    {
     "data": {
      "text/html": [
       "<div>\n",
       "<style scoped>\n",
       "    .dataframe tbody tr th:only-of-type {\n",
       "        vertical-align: middle;\n",
       "    }\n",
       "\n",
       "    .dataframe tbody tr th {\n",
       "        vertical-align: top;\n",
       "    }\n",
       "\n",
       "    .dataframe thead th {\n",
       "        text-align: right;\n",
       "    }\n",
       "</style>\n",
       "<table border=\"1\" class=\"dataframe\">\n",
       "  <thead>\n",
       "    <tr style=\"text-align: right;\">\n",
       "      <th></th>\n",
       "      <th>Channel</th>\n",
       "      <th>Counts</th>\n",
       "      <th>Channel Range</th>\n",
       "    </tr>\n",
       "  </thead>\n",
       "  <tbody>\n",
       "    <tr>\n",
       "      <th>241</th>\n",
       "      <td>241</td>\n",
       "      <td>95</td>\n",
       "      <td>Range 240-284</td>\n",
       "    </tr>\n",
       "    <tr>\n",
       "      <th>242</th>\n",
       "      <td>242</td>\n",
       "      <td>102</td>\n",
       "      <td>Range 240-284</td>\n",
       "    </tr>\n",
       "    <tr>\n",
       "      <th>243</th>\n",
       "      <td>243</td>\n",
       "      <td>95</td>\n",
       "      <td>Range 240-284</td>\n",
       "    </tr>\n",
       "    <tr>\n",
       "      <th>244</th>\n",
       "      <td>244</td>\n",
       "      <td>103</td>\n",
       "      <td>Range 240-284</td>\n",
       "    </tr>\n",
       "    <tr>\n",
       "      <th>245</th>\n",
       "      <td>245</td>\n",
       "      <td>98</td>\n",
       "      <td>Range 240-284</td>\n",
       "    </tr>\n",
       "  </tbody>\n",
       "</table>\n",
       "</div>"
      ],
      "text/plain": [
       "     Channel  Counts  Channel Range\n",
       "241      241      95  Range 240-284\n",
       "242      242     102  Range 240-284\n",
       "243      243      95  Range 240-284\n",
       "244      244     103  Range 240-284\n",
       "245      245      98  Range 240-284"
      ]
     },
     "execution_count": 7,
     "metadata": {},
     "output_type": "execute_result"
    }
   ],
   "source": [
    "# Define the channel ranges\n",
    "channel_ranges = [0, 240, 284, 700]\n",
    "\n",
    "# Create labels for the ranges\n",
    "labels = [f\"Range {i}-{j}\" for i, j in zip(channel_ranges[:-1], channel_ranges[1:])]\n",
    "\n",
    "# Use pd.cut() to categorize the data into the specified ranges\n",
    "df_70['Channel Range'] = pd.cut(df_70['Channel'], bins=channel_ranges, labels=labels, include_lowest=True)\n",
    "\n",
    "# Create a dictionary of DataFrames, one for each channel range\n",
    "channel_range_dfs = {label: group for label, group in df_70.groupby('Channel Range')}\n",
    "\n",
    "# Access individual DataFrames using keys (e.g., channel_range_dfs['Range 0-40'])\n",
    "channel_range_dfs['Range 240-284'].head()"
   ]
  },
  {
   "cell_type": "markdown",
   "id": "69e5ea92-d408-4e12-bafa-c404bf010ba2",
   "metadata": {},
   "source": [
    "## Define the model, fit, and print the results"
   ]
  },
  {
   "cell_type": "code",
   "execution_count": 8,
   "id": "406ce5e6-7458-4a28-b3cc-72d5cd79a401",
   "metadata": {
    "tags": []
   },
   "outputs": [],
   "source": [
    "#use builtin NameModel, specify prefix:\n",
    "mod2 = MoffatModel(prefix='g2_') "
   ]
  },
  {
   "cell_type": "code",
   "execution_count": 9,
   "id": "149f5e88-b6b1-48ce-8677-b0b3436fc431",
   "metadata": {
    "tags": []
   },
   "outputs": [],
   "source": [
    "#initialize the parameters to be optimized\n",
    "pars2  = mod2.make_params(g2_amplitude=263.0, g2_center=117.0, g2_sigma=7.34, g2_beta=1)"
   ]
  },
  {
   "cell_type": "code",
   "execution_count": 10,
   "id": "93d78890-9332-4062-a9f2-5248ffe985c5",
   "metadata": {
    "tags": []
   },
   "outputs": [
    {
     "name": "stdout",
     "output_type": "stream",
     "text": [
      "------------------------------------------------------\n",
      "[[Model]]\n",
      "    Model(moffat, prefix='g2_')\n",
      "[[Fit Statistics]]\n",
      "    # fitting method   = leastsq\n",
      "    # function evals   = 2756\n",
      "    # data points      = 44\n",
      "    # variables        = 4\n",
      "    chi-square         = 40.0042381\n",
      "    reduced chi-square = 1.00010595\n",
      "    Akaike info crit   = 3.81101371\n",
      "    Bayesian info crit = 10.9477722\n",
      "    R-squared          = 0.99533038\n",
      "[[Variables]]\n",
      "    g2_amplitude:  116.526709 +/- 3.06566725 (2.63%) (init = 263)\n",
      "    g2_center:     260.892852 +/- 0.97401180 (0.37%) (init = 117)\n",
      "    g2_sigma:      21.2355868 +/- 22.6753661 (106.78%) (init = 7.34)\n",
      "    g2_beta:       0.43346934 +/- 0.69045129 (159.28%) (init = 1)\n",
      "    g2_fwhm:       84.3929156 +/- 45.7868887 (54.25%) == '2*g2_sigma*sqrt(2**(1.0/max(1e-3, g2_beta))-1)'\n",
      "    g2_height:     116.526709 +/- 3.06566726 (2.63%) == 'g2_amplitude'\n",
      "[[Correlations]] (unreported correlations are < 0.100)\n",
      "    C(g2_sigma, g2_beta)      = +0.9955\n",
      "    C(g2_amplitude, g2_sigma) = -0.6122\n",
      "    C(g2_amplitude, g2_beta)  = -0.5542\n",
      "    C(g2_center, g2_beta)     = +0.1912\n",
      "    C(g2_center, g2_sigma)    = +0.1844\n",
      "------------------------------------------------------\n"
     ]
    }
   ],
   "source": [
    "#fit with weights=1./yerr\n",
    "result2 = mod2.fit(channel_range_dfs['Range 240-284']['Counts'], pars2, x = channel_range_dfs['Range 240-284']['Channel'],\n",
    "                  weights = 1 / (channel_range_dfs['Range 240-284'][\"Channel\"] * 0.03705))\n",
    "\n",
    "#print the Fit Statistics and parameters\n",
    "print('------------------------------------------------------')\n",
    "print(result2.fit_report())\n",
    "print('------------------------------------------------------')"
   ]
  },
  {
   "cell_type": "markdown",
   "id": "a8fa6743-2b76-4669-992c-a465dafee808",
   "metadata": {},
   "source": [
    "## Plot the model"
   ]
  },
  {
   "cell_type": "code",
   "execution_count": 11,
   "id": "1a6ec5ef-37e4-4acc-8a34-fada8924ac6d",
   "metadata": {
    "tags": []
   },
   "outputs": [
    {
     "data": {
      "image/png": "[encoded data removed]",
      "text/plain": [
       "<Figure size 900x600 with 1 Axes>"
      ]
     },
     "metadata": {},
     "output_type": "display_data"
    }
   ],
   "source": [
    "#Uncomment the line below to make the graph interactive\n",
    "#%matplotlib widget\n",
    "\n",
    "plt.figure(figsize=(9,6))\n",
    "\n",
    "#plot data and models\n",
    "plt.plot('Channel', 'Counts', data = channel_range_dfs['Range 0-240'], color = '#7c8bfd', marker = \".\")\n",
    "\n",
    "plt.plot('Channel', 'Counts', data = channel_range_dfs['Range 240-284'], color = '#7c8bfd', marker = \".\")\n",
    "plt.plot(channel_range_dfs['Range 240-284']['Channel'], result2.best_fit, 'r-', linewidth=2.5)\n",
    "\n",
    "plt.plot('Channel', 'Counts', data = channel_range_dfs['Range 284-700'], color = '#7c8bfd', marker = \".\")\n",
    "\n",
    "plt.ylabel('Counts')\n",
    "plt.xlabel('Channel')\n",
    "\n",
    "plt.annotate('gamma@661.657keV', xy=(279, 121), xytext=(300, 160),\n",
    "            arrowprops=dict(arrowstyle=\"->\",\n",
    "                            connectionstyle=\"arc\"),\n",
    "            )\n",
    "\n",
    "\n",
    "# Create legend entries for the blue and red lines (data and model) and display the legend\n",
    "blue_line = mlines.Line2D([], [], color='#7c8bfd', label='Data')\n",
    "\n",
    "red_line = mlines.Line2D([], [], color='red', label='Moffat Fit', linewidth=2.5)\n",
    "\n",
    "plt.legend([blue_line, red_line], ['Data', 'Moffat Fit'], loc='lower center', bbox_to_anchor= (0.5, 1.005), ncol=2,\n",
    "            borderaxespad=0, frameon=False)\n",
    "\n",
    "plt.title('Cs-137 gamma ray scattered at 70deg from an Al target ', y = 1.07)\n",
    "\n",
    "#show the plot\n",
    "plt.show()"
   ]
  },
  {
   "cell_type": "markdown",
   "id": "dd2b1027-4a59-4481-a1c1-3fbcebed488d",
   "metadata": {},
   "source": [
    "# Estimate the measured energy using the calibration curve (prepared in notebook 5) "
   ]
  },
  {
   "cell_type": "code",
   "execution_count": 12,
   "id": "24a2edda-9e8b-4159-ab0a-3abaf36f6a0c",
   "metadata": {
    "tags": []
   },
   "outputs": [
    {
     "name": "stdout",
     "output_type": "stream",
     "text": [
      "\n",
      "Linear Model Parameters\n",
      "-------------------------------\n",
      "Parameter    Value       Stderr\n",
      "p_r1_c0   -27.70990     4.87254\n",
      "p_r1_c1     1.45191     0.12099\n",
      "\n",
      "Linear Model Fit Stats\n",
      "-------------------------------\n",
      "Reduced Chi-squared =  1.0038505734658223\n",
      "r-squared =  0.9999951130945643\n",
      "\n",
      "Quadratic Model Parameters\n",
      "-------------------------------\n",
      "Parameter    Value       Stderr\n",
      "p_r2_c0   -35.38041     7.32770\n",
      "p_r2_c1     1.71396     0.22612\n",
      "p_r2_c2    -0.00061     0.00046\n",
      "\n",
      "Quadratic Model Fit Stats\n",
      "-------------------------------\n",
      "Reduced Chi-squared =  1.00411106030073\n",
      "r-squared =  0.9999959265220606\n"
     ]
    }
   ],
   "source": [
    "# Data\n",
    "x_r = np.array([29.3812658, 70.4034958, 100.839961, 102.324468, 254.677094, 350.450834, 638.540552, 738.972592])\n",
    "y_r = np.array([14.4136, 80.998, 122.060, 160.605, 356.005, 511.006, 661.6570, 1274.54])\n",
    "yerr_r = np.array([0.0003, 0.008, 0.010, 0.015, 0.017, 0.008, 0.003, 0.008])\n",
    "\n",
    "#use builtin NameModel, specify prefix for each:\n",
    "mod_r1 = PolynomialModel(1, prefix='p_r1_')\n",
    "mod_r2 = PolynomialModel(2, prefix='p_r2_')\n",
    "\n",
    "#set initial parameters\n",
    "pars_r1 = mod_r1.guess(y_r, x=x_r)\n",
    "pars_r2 = mod_r2.guess(y_r, x=x_r)    \n",
    "\n",
    "#fit with weights=1./yerr\n",
    "result_r1 = mod_r1.fit(y_r, pars_r1, x=x_r, weights = 1. / (y_r * np.mean(yerr_r / y_r) + y_r * 0.198))\n",
    "result_r2 = mod_r2.fit(y_r, pars_r2, x=x_r, weights = 1. / (y_r * np.mean(yerr_r / y_r) + y_r * 0.186))\n",
    "\n",
    "\n",
    "print()\n",
    "print(\"Linear Model Parameters\")\n",
    "print('-------------------------------')\n",
    "print('Parameter    Value       Stderr')\n",
    "for name, param in result_r1.params.items():\n",
    "    print(f'{name:7s} {param.value:11.5f} {param.stderr:11.5f}')\n",
    "\n",
    "print()\n",
    "print(\"Linear Model Fit Stats\")\n",
    "print('-------------------------------')\n",
    "print(\"Reduced Chi-squared = \", result_r1.redchi)\n",
    "print(\"r-squared = \", result_r1.rsquared)\n",
    "    \n",
    "print()\n",
    "print(\"Quadratic Model Parameters\")\n",
    "print('-------------------------------')\n",
    "print('Parameter    Value       Stderr')\n",
    "for name, param in result_r2.params.items():\n",
    "    print(f'{name:7s} {param.value:11.5f} {param.stderr:11.5f}')    \n",
    "\n",
    "print()\n",
    "print(\"Quadratic Model Fit Stats\")\n",
    "print('-------------------------------')\n",
    "print(\"Reduced Chi-squared = \", result_r2.redchi)\n",
    "print(\"r-squared = \", result_r2.rsquared)"
   ]
  },
  {
   "cell_type": "code",
   "execution_count": 13,
   "id": "a790d029-6511-47bc-8cb1-d221da82c542",
   "metadata": {
    "tags": []
   },
   "outputs": [
    {
     "name": "stdout",
     "output_type": "stream",
     "text": [
      "260.8928519540174\n"
     ]
    }
   ],
   "source": [
    "#Print the new position\n",
    "varys = result2.params.valuesdict()\n",
    "\n",
    "position = varys['g2_center']\n",
    "\n",
    "print(position)"
   ]
  },
  {
   "cell_type": "code",
   "execution_count": 14,
   "id": "95593d9f-fdd4-4e12-b3c7-0f72c9fd9f06",
   "metadata": {
    "tags": []
   },
   "outputs": [
    {
     "name": "stdout",
     "output_type": "stream",
     "text": [
      "\n",
      "Linear model estimation\n",
      "----------------------------\n",
      "361.0473541564699\n",
      "\n",
      "Quadratic model estimation\n",
      "----------------------------\n",
      "314.54782939625557\n"
     ]
    }
   ],
   "source": [
    "print()\n",
    "print(\"Linear model estimation\")\n",
    "print('----------------------------')\n",
    "print(result_r1.eval(pars_r1, x = position))\n",
    "\n",
    "print()\n",
    "print(\"Quadratic model estimation\")\n",
    "print('----------------------------')\n",
    "print(result_r2.eval(pars_r2, x = position))"
   ]
  },
  {
   "cell_type": "markdown",
   "id": "ce62c6c4-2156-4e8e-a54e-fb4da7c31409",
   "metadata": {},
   "source": [
    "## Creating a new table row by plugging the result into the Compton formula\n",
    "\n",
    "![](./img/Compton_formula.png)"
   ]
  },
  {
   "cell_type": "code",
   "execution_count": 15,
   "id": "db840f0f-60d4-438f-884b-ac51186831cf",
   "metadata": {
    "tags": []
   },
   "outputs": [
    {
     "name": "stdout",
     "output_type": "stream",
     "text": [
      "{'x': 0.6579798566743311, 'y': 3.179166748406448}\n"
     ]
    }
   ],
   "source": [
    "#Extract the energy from the model\n",
    "energy = result_r2.eval(pars_r2, x = position) \n",
    "\n",
    "#Calculate the variables (to be compared in the last step) according to the Compton model\n",
    "x = 1 - np.cos(np.deg2rad(70))\n",
    "y = 1 / (energy / 1000) #convert the energy to MeV\n",
    "\n",
    "#Add the data to a dictionary\n",
    "Compton_data = {\"x\" : x, \"y\" : y}\n",
    "\n",
    "#Preview the created row of data\n",
    "print(Compton_data)"
   ]
  },
  {
   "cell_type": "markdown",
   "id": "c70ccd63-a1e7-4f81-9ca8-344234aa3046",
   "metadata": {},
   "source": [
    "### Append the values to a csv file"
   ]
  },
  {
   "cell_type": "code",
   "execution_count": 16,
   "id": "91d2dc69-7a2d-4479-b77c-06c86d06a454",
   "metadata": {},
   "outputs": [],
   "source": [
    "# import csv\n",
    "\n",
    "# with open(r'./Data/Compton_data.csv', 'a', newline='') as csvfile:\n",
    "#     fieldnames = ['x','y']\n",
    "#     writer = csv.DictWriter(csvfile, fieldnames=fieldnames)\n",
    "\n",
    "#     writer.writerow(Compton_data)"
   ]
  },
  {
   "cell_type": "markdown",
   "id": "88a7a630-4717-44ec-a969-e60c8dd4762a",
   "metadata": {},
   "source": [
    "## Author\n",
    "** **\n",
    "\n",
    "### <a href=\"https://www.linkedin.com/in/alin-airinei/\">Alin Airinei</a>"
   ]
  },
  {
   "cell_type": "code",
   "execution_count": null,
   "id": "3800a18d-69d9-414b-98ca-cbb8e60d8201",
   "metadata": {},
   "outputs": [],
   "source": []
  }
 ],
 "metadata": {
  "kernelspec": {
   "display_name": "Python 3 (ipykernel)",
   "language": "python",
   "name": "python3"
  },
  "language_info": {
   "codemirror_mode": {
    "name": "ipython",
    "version": 3
   },
   "file_extension": ".py",
   "mimetype": "text/x-python",
   "name": "python",
   "nbconvert_exporter": "python",
   "pygments_lexer": "ipython3",
   "version": "3.11.4"
  },
  "widgets": {
   "application/vnd.jupyter.widget-state+json": {
    "state": {},
    "version_major": 2,
    "version_minor": 0
   }
  }
 },
 "nbformat": 4,
 "nbformat_minor": 5
}
